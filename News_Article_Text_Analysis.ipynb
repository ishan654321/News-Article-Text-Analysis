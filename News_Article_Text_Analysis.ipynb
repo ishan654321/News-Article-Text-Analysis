{
  "nbformat": 4,
  "nbformat_minor": 0,
  "metadata": {
    "colab": {
      "provenance": [],
      "authorship_tag": "ABX9TyNcDlL9fE/RMqELxX3cd5K1",
      "include_colab_link": true
    },
    "kernelspec": {
      "name": "python3",
      "display_name": "Python 3"
    },
    "language_info": {
      "name": "python"
    }
  },
  "cells": [
    {
      "cell_type": "markdown",
      "metadata": {
        "id": "view-in-github",
        "colab_type": "text"
      },
      "source": [
        "<a href=\"https://colab.research.google.com/github/ishan654321/News-Article-Text-Analysis/blob/main/News_Article_Text_Analysis.ipynb\" target=\"_parent\"><img src=\"https://colab.research.google.com/assets/colab-badge.svg\" alt=\"Open In Colab\"/></a>"
      ]
    },
    {
      "cell_type": "code",
      "execution_count": null,
      "metadata": {
        "colab": {
          "base_uri": "https://localhost:8080/"
        },
        "id": "CPJOSwy4-kdE",
        "outputId": "2a8c0a25-93a1-4f69-a1dd-e7733b3afbb6"
      },
      "outputs": [
        {
          "output_type": "stream",
          "name": "stdout",
          "text": [
            "Collecting textstat\n",
            "  Downloading textstat-0.7.4-py3-none-any.whl.metadata (14 kB)\n",
            "Collecting pyphen (from textstat)\n",
            "  Downloading pyphen-0.16.0-py3-none-any.whl.metadata (3.2 kB)\n",
            "Requirement already satisfied: setuptools in /usr/local/lib/python3.10/dist-packages (from textstat) (71.0.4)\n",
            "Downloading textstat-0.7.4-py3-none-any.whl (105 kB)\n",
            "\u001b[2K   \u001b[90m━━━━━━━━━━━━━━━━━━━━━━━━━━━━━━━━━━━━━━━━\u001b[0m \u001b[32m105.1/105.1 kB\u001b[0m \u001b[31m2.6 MB/s\u001b[0m eta \u001b[36m0:00:00\u001b[0m\n",
            "\u001b[?25hDownloading pyphen-0.16.0-py3-none-any.whl (2.1 MB)\n",
            "\u001b[2K   \u001b[90m━━━━━━━━━━━━━━━━━━━━━━━━━━━━━━━━━━━━━━━━\u001b[0m \u001b[32m2.1/2.1 MB\u001b[0m \u001b[31m32.1 MB/s\u001b[0m eta \u001b[36m0:00:00\u001b[0m\n",
            "\u001b[?25hInstalling collected packages: pyphen, textstat\n",
            "Successfully installed pyphen-0.16.0 textstat-0.7.4\n"
          ]
        }
      ],
      "source": [
        "#!pip install requests beautifulsoup4 textblob nltk textstat pandas\n",
        "!pip install textstat"
      ]
    },
    {
      "cell_type": "code",
      "source": [
        "import requests\n",
        "from bs4 import BeautifulSoup\n",
        "import pandas as pd\n",
        "from textblob import TextBlob\n",
        "import nltk\n",
        "from nltk.corpus import stopwords\n",
        "from nltk.tokenize import sent_tokenize, word_tokenize\n",
        "import textstat\n",
        "import re\n",
        "\n",
        "# Download necessary NLTK data\n",
        "nltk.download('punkt')\n",
        "nltk.download('stopwords')\n",
        "stop_words = set(stopwords.words('english'))"
      ],
      "metadata": {
        "colab": {
          "base_uri": "https://localhost:8080/"
        },
        "id": "TF5j8cQMCKN-",
        "outputId": "f5a88ff3-1e23-4121-c572-4f1427ff7047"
      },
      "execution_count": null,
      "outputs": [
        {
          "output_type": "stream",
          "name": "stderr",
          "text": [
            "[nltk_data] Downloading package punkt to /root/nltk_data...\n",
            "[nltk_data]   Unzipping tokenizers/punkt.zip.\n",
            "[nltk_data] Downloading package stopwords to /root/nltk_data...\n",
            "[nltk_data]   Unzipping corpora/stopwords.zip.\n"
          ]
        }
      ]
    },
    {
      "cell_type": "code",
      "source": [
        "def scrape_article_text(url):\n",
        "    \"\"\"\n",
        "    Scrape article body text from a given URL. Assumes article text is within 'data-component'='text-block'.\n",
        "    \"\"\"\n",
        "    try:\n",
        "        response = requests.get(url)\n",
        "        if response.status_code != 200:\n",
        "            return None\n",
        "        soup = BeautifulSoup(response.text, 'html.parser')\n",
        "\n",
        "        paragraphs = soup.find_all('div', {'data-component': 'text-block'})\n",
        "        article_text = \" \".join([para.get_text() for para in paragraphs])\n",
        "        return article_text\n",
        "    except Exception as e:\n",
        "        print(f\"Error scraping {url}: {e}\")\n",
        "        return None\n",
        "\n",
        "def text_analysis(article_text):\n",
        "    \"\"\"\n",
        "    Perform text analysis and calculate various metrics for the article.\n",
        "    \"\"\"\n",
        "    if not article_text:\n",
        "        return None\n",
        "\n",
        "    # Tokenize sentences and words\n",
        "    sentences = sent_tokenize(article_text)\n",
        "    words = word_tokenize(article_text)\n",
        "\n",
        "    # Remove stopwords and non-alphabetic words\n",
        "    filtered_words = [word for word in words if word.isalpha() and word.lower() not in stop_words]\n",
        "\n",
        "    # Calculate word count\n",
        "    total_words = len(filtered_words)\n",
        "\n",
        "    # Calculate sentence statistics\n",
        "    avg_words_per_sentence = total_words / len(sentences) if sentences else 0\n",
        "\n",
        "    # Sentiment analysis (using TextBlob)\n",
        "    blob = TextBlob(article_text)\n",
        "    polarity = blob.sentiment.polarity\n",
        "    subjectivity = blob.sentiment.subjectivity\n",
        "\n",
        "    # Calculate complex words (words with 3 or more syllables)\n",
        "    complex_words = [word for word in filtered_words if textstat.syllable_count(word) >= 3]\n",
        "    complex_word_count = len(complex_words)\n",
        "    avg_complex_words_per_sentence = complex_word_count / len(sentences) if sentences else 0\n",
        "\n",
        "    # Calculate readability metrics\n",
        "    fog_index = textstat.gunning_fog(article_text)\n",
        "\n",
        "    return {\n",
        "        'total_words': total_words,\n",
        "        'avg_words_per_sentence': avg_words_per_sentence,\n",
        "        'polarity': polarity,\n",
        "        'subjectivity': subjectivity,\n",
        "        'fog_index': fog_index,\n",
        "        'complex_word_count': complex_word_count,\n",
        "        'avg_complex_words_per_sentence': avg_complex_words_per_sentence\n",
        "    }\n",
        "\n",
        "def process_articles(csv_file):\n",
        "    # Load URLs from CSV\n",
        "    urls_df = pd.read_csv(csv_file)\n",
        "\n",
        "    # DataFrame to store analysis results\n",
        "    results = []\n",
        "\n",
        "    for index, row in urls_df.iterrows():\n",
        "        url = row['url']\n",
        "        article_text = scrape_article_text(url)\n",
        "        if article_text:\n",
        "            analysis = text_analysis(article_text)\n",
        "            if analysis:\n",
        "                analysis['url'] = url\n",
        "                results.append(analysis)\n",
        "\n",
        "    # Create DataFrame from results and save it to CSV\n",
        "    results_df = pd.DataFrame(results)\n",
        "    results_df.to_csv('article_analysis_results.csv', index=False)\n",
        "    print(\"Analysis completed and saved to 'article_analysis_results.csv'\")\n"
      ],
      "metadata": {
        "id": "WuzPJzb0C4Ab"
      },
      "execution_count": null,
      "outputs": []
    },
    {
      "cell_type": "code",
      "source": [
        "# Path to your CSV file containing URLs\n",
        "csv_file = '/content/news_articles.csv'\n",
        "\n",
        "process_articles(csv_file)"
      ],
      "metadata": {
        "colab": {
          "base_uri": "https://localhost:8080/"
        },
        "id": "42av0d2EWoR7",
        "outputId": "2b4245f7-36bd-4c7e-d5e4-354fd69135bb"
      },
      "execution_count": null,
      "outputs": [
        {
          "output_type": "stream",
          "name": "stdout",
          "text": [
            "Analysis completed and saved to 'article_analysis_results.csv'\n"
          ]
        }
      ]
    }
  ]
}